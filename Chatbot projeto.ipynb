{
  "nbformat": 4,
  "nbformat_minor": 0,
  "metadata": {
    "colab": {
      "provenance": [],
      "authorship_tag": "ABX9TyNioshq2hg58V2KwAB68se+",
      "include_colab_link": true
    },
    "kernelspec": {
      "name": "python3",
      "display_name": "Python 3"
    },
    "language_info": {
      "name": "python"
    }
  },
  "cells": [
    {
      "cell_type": "markdown",
      "metadata": {
        "id": "view-in-github",
        "colab_type": "text"
      },
      "source": [
        "<a href=\"https://colab.research.google.com/github/Dogao82/Chatbot-Projeto-Google-Alura/blob/main/Chatbot%20projeto.ipynb\" target=\"_parent\"><img src=\"https://colab.research.google.com/assets/colab-badge.svg\" alt=\"Open In Colab\"/></a>"
      ]
    },
    {
      "cell_type": "code",
      "execution_count": 1,
      "metadata": {
        "id": "bpnsGdPgpv5v"
      },
      "outputs": [],
      "source": [
        "!pip install -q -U google-generativeai\n",
        "\n"
      ]
    },
    {
      "cell_type": "markdown",
      "source": [],
      "metadata": {
        "id": "KaBk5dVtuGgQ"
      }
    },
    {
      "cell_type": "code",
      "source": [
        "import google.generativeai as genai\n",
        "from google.colab import userdata\n",
        "api_key = userdata.get('SECRET_KEY')\n",
        "genai.configure(api_key=\"api_key\")"
      ],
      "metadata": {
        "id": "cQOBvgAAu1mI"
      },
      "execution_count": 21,
      "outputs": []
    },
    {
      "cell_type": "code",
      "source": [],
      "metadata": {
        "id": "SnUBp71SvD-a"
      },
      "execution_count": null,
      "outputs": []
    },
    {
      "cell_type": "markdown",
      "source": [
        "Listar os modelos disponíveis"
      ],
      "metadata": {
        "id": "9xKqOpP8vRHB"
      }
    },
    {
      "cell_type": "code",
      "source": [
        "for m in genai.list_models():\n",
        "  if 'generateContent' in m.supported_generation_methods:\n",
        "    print(m.name)"
      ],
      "metadata": {
        "colab": {
          "base_uri": "https://localhost:8080/",
          "height": 138
        },
        "id": "hPJCuV1Wvd9F",
        "outputId": "e723a68f-6798-4061-af02-171cbb59f86c"
      },
      "execution_count": 3,
      "outputs": [
        {
          "output_type": "stream",
          "name": "stdout",
          "text": [
            "models/gemini-1.0-pro\n",
            "models/gemini-1.0-pro-001\n",
            "models/gemini-1.0-pro-latest\n",
            "models/gemini-1.0-pro-vision-latest\n",
            "models/gemini-1.5-pro-latest\n",
            "models/gemini-pro\n",
            "models/gemini-pro-vision\n"
          ]
        }
      ]
    },
    {
      "cell_type": "code",
      "source": [
        "generation_config = {\"candidate_count\": 1,\"temperature\": 0.5,}"
      ],
      "metadata": {
        "id": "XV-2xHKfyoUg"
      },
      "execution_count": 5,
      "outputs": []
    },
    {
      "cell_type": "code",
      "source": [
        "safety_settings = {\"harassment\": \"block_none\",\"hate\": \"block_none\",\"sexual\":\"block_none\",\"dangerous\":\"block_none\",}"
      ],
      "metadata": {
        "id": "8KPoDYsAzsxH"
      },
      "execution_count": 6,
      "outputs": []
    },
    {
      "cell_type": "markdown",
      "source": [
        "Inicializando o modelo"
      ],
      "metadata": {
        "id": "wjetAFeC1BI5"
      }
    },
    {
      "cell_type": "code",
      "source": [
        "model = genai.GenerativeModel(model_name=\"gemini-1.0-pro\",generation_config=generation_config,safety_settings=safety_settings)"
      ],
      "metadata": {
        "id": "jLevdYnp1Gca"
      },
      "execution_count": 8,
      "outputs": []
    },
    {
      "cell_type": "code",
      "source": [
        "response = model.generate_content(\"Como investir e ganhar na bolsa de valores. Me oriente para ser assertivo.\")\n",
        "print(response.text)"
      ],
      "metadata": {
        "colab": {
          "base_uri": "https://localhost:8080/",
          "height": 867
        },
        "id": "rfIgcUZC2h1J",
        "outputId": "6903d432-c71b-4474-adc8-e85b5e944aa5"
      },
      "execution_count": 11,
      "outputs": [
        {
          "output_type": "stream",
          "name": "stdout",
          "text": [
            "**Guia para Investir na Bolsa de Valores**\n",
            "\n",
            "**1. Defina seus Objetivos e Tolerância a Risco**\n",
            "\n",
            "* Determine seus objetivos financeiros (aposentadoria, educação, compra de casa).\n",
            "* Avalie sua tolerância a risco (quanto você está disposto a perder).\n",
            "\n",
            "**2. Eduque-se**\n",
            "\n",
            "* Aprenda sobre os diferentes tipos de investimentos (ações, títulos, fundos mútuos).\n",
            "* Compreenda os conceitos de risco e retorno.\n",
            "* Leia livros, artigos e participe de cursos sobre investimentos.\n",
            "\n",
            "**3. Escolha uma Corretora**\n",
            "\n",
            "* Compare as taxas, recursos e atendimento ao cliente das corretoras.\n",
            "* Escolha uma corretora que atenda às suas necessidades e orçamento.\n",
            "\n",
            "**4. Crie um Plano de Investimento**\n",
            "\n",
            "* Determine a alocação de ativos (porcentagem de seu portfólio investida em diferentes tipos de investimentos).\n",
            "* Considere a diversificação para reduzir o risco.\n",
            "* Estabeleça uma estratégia de rebalanceamento para manter a alocação de ativos desejada.\n",
            "\n",
            "**5. Pesquise e Selecione Ações**\n",
            "\n",
            "* Analise empresas e setores para identificar oportunidades de investimento.\n",
            "* Considere fatores como lucratividade, crescimento e fluxo de caixa.\n",
            "* Use ferramentas de análise técnica e fundamental para avaliar ações.\n",
            "\n",
            "**6. Gerencie seu Portfólio**\n",
            "\n",
            "* Monitore o desempenho de seus investimentos regularmente.\n",
            "* Faça ajustes conforme necessário com base em mudanças no mercado ou em seus objetivos.\n",
            "* Rebalanceie seu portfólio para manter a alocação de ativos desejada.\n",
            "\n",
            "**7. Pratique Paciência e Disciplina**\n",
            "\n",
            "* Investir na bolsa de valores é um jogo de longo prazo.\n",
            "* Não entre em pânico ou venda por impulso durante os períodos de volatilidade do mercado.\n",
            "* Mantenha-se fiel ao seu plano de investimento e evite negociações emocionais.\n",
            "\n",
            "**Dicas Adicionais**\n",
            "\n",
            "* Invista cedo e com frequência (investimento periódico).\n",
            "* Reinvestir ganhos para crescimento composto.\n",
            "* Use ordens de parada para limitar perdas.\n",
            "* Busque aconselhamento profissional se necessário.\n",
            "* Lembre-se de que investir na bolsa de valores envolve risco. Nunca invista mais do que você pode perder.\n"
          ]
        }
      ]
    },
    {
      "cell_type": "code",
      "source": [
        "chat = model.start_chat(history=[])"
      ],
      "metadata": {
        "id": "IY-DFTvG3jNh"
      },
      "execution_count": 12,
      "outputs": []
    },
    {
      "cell_type": "code",
      "source": [
        "prompt = input(\"esperando prompt:\")\n",
        "\n",
        "while prompt != \"fim\":\n",
        "  response = chat.send_message(prompt)\n",
        "  print(\"Resposta: \", response.text, \"\\n\")\n",
        "  prompt = input(\"esperando prompt:\")"
      ],
      "metadata": {
        "colab": {
          "base_uri": "https://localhost:8080/",
          "height": 1000
        },
        "id": "cLOrdR3Z4Bfb",
        "outputId": "eeb3bb49-8aa4-44b3-fde5-5722680f177d"
      },
      "execution_count": 14,
      "outputs": [
        {
          "output_type": "stream",
          "name": "stdout",
          "text": [
            "esperando prompt:Hoje, qual é as ações para renda passiva que irão me render mais mensalmente?\n",
            "Resposta:  **Ações para Renda Passiva com Alto Potencial de Retorno Mensal**\n",
            "\n",
            "* **Dividendos de Ações:** Investir em ações de empresas que pagam dividendos regularmente.\n",
            "* **Fundos Imobiliários (FIIs):** Investir em fundos que investem em imóveis e distribuem os aluguéis recebidos como dividendos.\n",
            "* **Títulos de Renda Fixa:** Investir em títulos emitidos pelo governo ou empresas que pagam juros regulares.\n",
            "* **Crowdfunding Imobiliário:** Investir em plataformas que permitem financiar projetos imobiliários e receber uma parcela dos lucros.\n",
            "* **Empréstimos Peer-to-Peer (P2P):** Emprestar dinheiro a outras pessoas por meio de plataformas online e receber juros sobre os empréstimos.\n",
            "* **Royalties de Propriedade Intelectual:** Criar e licenciar conteúdo, como livros, músicas ou patentes, para receber pagamentos contínuos.\n",
            "* **Anúncios em Imóveis:** Alugar espaço em imóveis para publicidade e receber uma renda mensal.\n",
            "* **Aluguel de Equipamentos:** Alugar equipamentos, como ferramentas ou máquinas, para uso temporário.\n",
            "* **Vendas de Cursos Online:** Criar e vender cursos online que gerem renda passiva contínua.\n",
            "* **Marketing de Afiliados:** Promover produtos ou serviços de outras empresas e receber uma comissão sobre as vendas geradas.\n",
            "\n",
            "**Observações:**\n",
            "\n",
            "* Os retornos mensais podem variar dependendo do investimento específico e das condições de mercado.\n",
            "* É importante diversificar seus investimentos para mitigar riscos.\n",
            "* Consulte um consultor financeiro antes de tomar qualquer decisão de investimento. \n",
            "\n",
            "esperando prompt:qual as empresas com os melhores dividendos mensais, na data de hoje?\n",
            "Resposta:  **Empresas com os Melhores Dividendos Mensais na Data de Hoje (24 de Fevereiro de 2023)**\n",
            "\n",
            "| Empresa | Símbolo | Dividendos Mensais | Rendimento de Dividendos |\n",
            "|---|---|---|---|\n",
            "| **Realty Income Corporation** | O | US$ 0,2485 | 4,79% |\n",
            "| **Gladstone Capital Corporation** | GLAD | US$ 0,0633 | 10,82% |\n",
            "| **Main Street Capital Corporation** | MAIN | US$ 0,2275 | 8,41% |\n",
            "| **PennantPark Floating Rate Capital Ltd.** | PFLT | US$ 0,0917 | 9,72% |\n",
            "| **Stellus Capital Investment Corporation** | SCM | US$ 0,1250 | 10,42% |\n",
            "| **Ares Capital Corporation** | ARCC | US$ 0,42 | 8,33% |\n",
            "| **Prospect Capital Corporation** | PSEC | US$ 0,0600 | 10,00% |\n",
            "| **FS KKR Capital Corp.** | FSK | US$ 0,1575 | 10,50% |\n",
            "| **Blackstone Mortgage Trust** | BXMT | US$ 0,23 | 8,62% |\n",
            "| **Ellington Residential Mortgage REIT** | EARN | US$ 0,12 | 10,00% |\n",
            "\n",
            "**Observações:**\n",
            "\n",
            "* Os dividendos mensais e os rendimentos de dividendos podem variar dependendo das condições de mercado.\n",
            "* É importante pesquisar e considerar cuidadosamente as empresas antes de investir.\n",
            "* Consulte um consultor financeiro para obter aconselhamento personalizado. \n",
            "\n",
            "esperando prompt:Empresas com os Melhores Dividendos Mensais na Data de Hoje, no Brasil (24 de Fevereiro de 2023\n",
            "Resposta:  **Empresas com os Melhores Dividendos Mensais no Brasil na Data de Hoje (24 de Fevereiro de 2023)**\n",
            "\n",
            "| Empresa | Símbolo | Dividendos Mensais | Rendimento de Dividendos |\n",
            "|---|---|---|---|\n",
            "| **BB Seguridade** | BBSE3 | R$ 0,22 | 8,25% |\n",
            "| **Itaú Unibanco** | ITUB4 | R$ 0,23 | 6,75% |\n",
            "| **Bradesco** | BBDC4 | R$ 0,21 | 6,25% |\n",
            "| **Santander Brasil** | SANB11 | R$ 0,19 | 5,75% |\n",
            "| **Vale** | VALE3 | R$ 0,37 | 11,25% |\n",
            "| **Petrobras** | PETR4 | R$ 0,45 | 13,75% |\n",
            "| **Gerdau** | GGBR4 | R$ 0,25 | 7,75% |\n",
            "| **Klabin** | KLBN11 | R$ 0,23 | 7,00% |\n",
            "| **Suzano** | SUZB3 | R$ 0,26 | 7,95% |\n",
            "| **Cosan** | CSAN3 | R$ 0,21 | 6,35% |\n",
            "\n",
            "**Observações:**\n",
            "\n",
            "* Os dividendos mensais e os rendimentos de dividendos podem variar dependendo das condições de mercado.\n",
            "* É importante pesquisar e considerar cuidadosamente as empresas antes de investir.\n",
            "* Consulte um consultor financeiro para obter aconselhamento personalizado. \n",
            "\n"
          ]
        },
        {
          "output_type": "error",
          "ename": "KeyboardInterrupt",
          "evalue": "Interrupted by user",
          "traceback": [
            "\u001b[0;31m---------------------------------------------------------------------------\u001b[0m",
            "\u001b[0;31mKeyboardInterrupt\u001b[0m                         Traceback (most recent call last)",
            "\u001b[0;32m<ipython-input-14-a2a37d033a29>\u001b[0m in \u001b[0;36m<cell line: 3>\u001b[0;34m()\u001b[0m\n\u001b[1;32m      4\u001b[0m   \u001b[0mresponse\u001b[0m \u001b[0;34m=\u001b[0m \u001b[0mchat\u001b[0m\u001b[0;34m.\u001b[0m\u001b[0msend_message\u001b[0m\u001b[0;34m(\u001b[0m\u001b[0mprompt\u001b[0m\u001b[0;34m)\u001b[0m\u001b[0;34m\u001b[0m\u001b[0;34m\u001b[0m\u001b[0m\n\u001b[1;32m      5\u001b[0m   \u001b[0mprint\u001b[0m\u001b[0;34m(\u001b[0m\u001b[0;34m\"Resposta: \"\u001b[0m\u001b[0;34m,\u001b[0m \u001b[0mresponse\u001b[0m\u001b[0;34m.\u001b[0m\u001b[0mtext\u001b[0m\u001b[0;34m,\u001b[0m \u001b[0;34m\"\\n\"\u001b[0m\u001b[0;34m)\u001b[0m\u001b[0;34m\u001b[0m\u001b[0;34m\u001b[0m\u001b[0m\n\u001b[0;32m----> 6\u001b[0;31m   \u001b[0mprompt\u001b[0m \u001b[0;34m=\u001b[0m \u001b[0minput\u001b[0m\u001b[0;34m(\u001b[0m\u001b[0;34m\"esperando prompt:\"\u001b[0m\u001b[0;34m)\u001b[0m\u001b[0;34m\u001b[0m\u001b[0;34m\u001b[0m\u001b[0m\n\u001b[0m",
            "\u001b[0;32m/usr/local/lib/python3.10/dist-packages/ipykernel/kernelbase.py\u001b[0m in \u001b[0;36mraw_input\u001b[0;34m(self, prompt)\u001b[0m\n\u001b[1;32m    849\u001b[0m                 \u001b[0;34m\"raw_input was called, but this frontend does not support input requests.\"\u001b[0m\u001b[0;34m\u001b[0m\u001b[0;34m\u001b[0m\u001b[0m\n\u001b[1;32m    850\u001b[0m             )\n\u001b[0;32m--> 851\u001b[0;31m         return self._input_request(str(prompt),\n\u001b[0m\u001b[1;32m    852\u001b[0m             \u001b[0mself\u001b[0m\u001b[0;34m.\u001b[0m\u001b[0m_parent_ident\u001b[0m\u001b[0;34m,\u001b[0m\u001b[0;34m\u001b[0m\u001b[0;34m\u001b[0m\u001b[0m\n\u001b[1;32m    853\u001b[0m             \u001b[0mself\u001b[0m\u001b[0;34m.\u001b[0m\u001b[0m_parent_header\u001b[0m\u001b[0;34m,\u001b[0m\u001b[0;34m\u001b[0m\u001b[0;34m\u001b[0m\u001b[0m\n",
            "\u001b[0;32m/usr/local/lib/python3.10/dist-packages/ipykernel/kernelbase.py\u001b[0m in \u001b[0;36m_input_request\u001b[0;34m(self, prompt, ident, parent, password)\u001b[0m\n\u001b[1;32m    893\u001b[0m             \u001b[0;32mexcept\u001b[0m \u001b[0mKeyboardInterrupt\u001b[0m\u001b[0;34m:\u001b[0m\u001b[0;34m\u001b[0m\u001b[0;34m\u001b[0m\u001b[0m\n\u001b[1;32m    894\u001b[0m                 \u001b[0;31m# re-raise KeyboardInterrupt, to truncate traceback\u001b[0m\u001b[0;34m\u001b[0m\u001b[0;34m\u001b[0m\u001b[0m\n\u001b[0;32m--> 895\u001b[0;31m                 \u001b[0;32mraise\u001b[0m \u001b[0mKeyboardInterrupt\u001b[0m\u001b[0;34m(\u001b[0m\u001b[0;34m\"Interrupted by user\"\u001b[0m\u001b[0;34m)\u001b[0m \u001b[0;32mfrom\u001b[0m \u001b[0;32mNone\u001b[0m\u001b[0;34m\u001b[0m\u001b[0;34m\u001b[0m\u001b[0m\n\u001b[0m\u001b[1;32m    896\u001b[0m             \u001b[0;32mexcept\u001b[0m \u001b[0mException\u001b[0m \u001b[0;32mas\u001b[0m \u001b[0me\u001b[0m\u001b[0;34m:\u001b[0m\u001b[0;34m\u001b[0m\u001b[0;34m\u001b[0m\u001b[0m\n\u001b[1;32m    897\u001b[0m                 \u001b[0mself\u001b[0m\u001b[0;34m.\u001b[0m\u001b[0mlog\u001b[0m\u001b[0;34m.\u001b[0m\u001b[0mwarning\u001b[0m\u001b[0;34m(\u001b[0m\u001b[0;34m\"Invalid Message:\"\u001b[0m\u001b[0;34m,\u001b[0m \u001b[0mexc_info\u001b[0m\u001b[0;34m=\u001b[0m\u001b[0;32mTrue\u001b[0m\u001b[0;34m)\u001b[0m\u001b[0;34m\u001b[0m\u001b[0;34m\u001b[0m\u001b[0m\n",
            "\u001b[0;31mKeyboardInterrupt\u001b[0m: Interrupted by user"
          ]
        }
      ]
    },
    {
      "cell_type": "code",
      "source": [
        "import textwrap\n",
        "from IPython.display import display\n",
        "from IPython.display import Markdown\n",
        "\n",
        "def to_markdown(text):\n",
        "  \"\"\"\n",
        "  Converte texto simples para Markdown.\n",
        "  \"\"\"\n",
        "  text = text.replace('`', '\\\\\\`')\n",
        "  return Markdown(textwrap.indent(text, '> ', predicate=lambda _: True))\n",
        "\n",
        "  for message in chat_history:\n",
        "    display(to_markdown(f\"**{message.role}:** {message.parts[0].text}\"))\n",
        "    print()"
      ],
      "metadata": {
        "id": "TKH6g18T7b3U"
      },
      "execution_count": null,
      "outputs": []
    },
    {
      "cell_type": "code",
      "source": [
        "#Melhorando a visualização\n",
        "#Código disponível em https://ai.google.dev/tutorials/python-quickstart#import_packages\n",
        "\n",
        "import textwrap\n",
        "from IPython.display import display\n",
        "from IPython.display import Markdown\n",
        "\n",
        "def to_markdown(text):\n",
        "  \"\"\"\n",
        "  Converte texto simples para Markdown.\n",
        "  \"\"\"\n",
        "  text = text.replace('`', '\\\\\\`')\n",
        "  return Markdown(textwrap.indent(text, '> ', predicate=lambda _: True))\n",
        "\n",
        "#Imprimindo o histórico\n",
        "for message in chat_history:\n",
        "    display(to_markdown(f\"**{message.role}:** {message.parts[0].text}\"))\n",
        "    print()"
      ],
      "metadata": {
        "colab": {
          "base_uri": "https://localhost:8080/",
          "height": 211
        },
        "id": "WlVstsRv7orh",
        "outputId": "3d6d0b24-8065-405d-bce7-d74936b60eb8"
      },
      "execution_count": 15,
      "outputs": [
        {
          "output_type": "error",
          "ename": "NameError",
          "evalue": "name 'chat_history' is not defined",
          "traceback": [
            "\u001b[0;31m---------------------------------------------------------------------------\u001b[0m",
            "\u001b[0;31mNameError\u001b[0m                                 Traceback (most recent call last)",
            "\u001b[0;32m<ipython-input-15-3cfd5cdaaf30>\u001b[0m in \u001b[0;36m<cell line: 16>\u001b[0;34m()\u001b[0m\n\u001b[1;32m     14\u001b[0m \u001b[0;34m\u001b[0m\u001b[0m\n\u001b[1;32m     15\u001b[0m \u001b[0;31m#Imprimindo o histórico\u001b[0m\u001b[0;34m\u001b[0m\u001b[0;34m\u001b[0m\u001b[0m\n\u001b[0;32m---> 16\u001b[0;31m \u001b[0;32mfor\u001b[0m \u001b[0mmessage\u001b[0m \u001b[0;32min\u001b[0m \u001b[0mchat_history\u001b[0m\u001b[0;34m:\u001b[0m\u001b[0;34m\u001b[0m\u001b[0;34m\u001b[0m\u001b[0m\n\u001b[0m\u001b[1;32m     17\u001b[0m     \u001b[0mdisplay\u001b[0m\u001b[0;34m(\u001b[0m\u001b[0mto_markdown\u001b[0m\u001b[0;34m(\u001b[0m\u001b[0;34mf\"**{message.role}:** {message.parts[0].text}\"\u001b[0m\u001b[0;34m)\u001b[0m\u001b[0;34m)\u001b[0m\u001b[0;34m\u001b[0m\u001b[0;34m\u001b[0m\u001b[0m\n\u001b[1;32m     18\u001b[0m     \u001b[0mprint\u001b[0m\u001b[0;34m(\u001b[0m\u001b[0;34m)\u001b[0m\u001b[0;34m\u001b[0m\u001b[0;34m\u001b[0m\u001b[0m\n",
            "\u001b[0;31mNameError\u001b[0m: name 'chat_history' is not defined"
          ]
        }
      ]
    },
    {
      "cell_type": "code",
      "source": [
        "chat"
      ],
      "metadata": {
        "colab": {
          "base_uri": "https://localhost:8080/"
        },
        "id": "Vwzxyfvk70se",
        "outputId": "ee19e69a-1122-49f5-f767-7448f29e54de"
      },
      "execution_count": 16,
      "outputs": [
        {
          "output_type": "execute_result",
          "data": {
            "text/plain": [
              "ChatSession(\n",
              "    model=genai.GenerativeModel(\n",
              "        model_name='models/gemini-1.0-pro',\n",
              "        generation_config={'candidate_count': 1, 'temperature': 0.5},\n",
              "        safety_settings={<HarmCategory.HARM_CATEGORY_HARASSMENT: 7>: <HarmBlockThreshold.BLOCK_NONE: 4>, <HarmCategory.HARM_CATEGORY_HATE_SPEECH: 8>: <HarmBlockThreshold.BLOCK_NONE: 4>, <HarmCategory.HARM_CATEGORY_SEXUALLY_EXPLICIT: 9>: <HarmBlockThreshold.BLOCK_NONE: 4>, <HarmCategory.HARM_CATEGORY_DANGEROUS_CONTENT: 10>: <HarmBlockThreshold.BLOCK_NONE: 4>},\n",
              "        tools=None,\n",
              "        system_instruction=None,\n",
              "    ),\n",
              "    history=[glm.Content({'parts': [{'text': 'Hoje, qual é... mensalmente?'}], 'role': 'user'}), glm.Content({'parts': [{'text': '**Ações para...investimento.'}], 'role': 'model'}), glm.Content({'parts': [{'text': 'qual as empr...data de hoje?'}], 'role': 'user'}), glm.Content({'parts': [{'text': '**Empresas c...ersonalizado.'}], 'role': 'model'}), glm.Content({'parts': [{'text': 'Empresas com...reiro de 2023'}], 'role': 'user'}), glm.Content({'parts': [{'text': '**Empresas c...ersonalizado.'}], 'role': 'model'})]\n",
              ")"
            ]
          },
          "metadata": {},
          "execution_count": 16
        }
      ]
    },
    {
      "cell_type": "code",
      "source": [
        "chat.history"
      ],
      "metadata": {
        "colab": {
          "base_uri": "https://localhost:8080/"
        },
        "id": "0etuKbp077G7",
        "outputId": "70bb5885-7e31-4f84-91ac-a1add2d7cd54"
      },
      "execution_count": 17,
      "outputs": [
        {
          "output_type": "execute_result",
          "data": {
            "text/plain": [
              "[parts {\n",
              "   text: \"Hoje, qual \\303\\251 as a\\303\\247\\303\\265es para renda passiva que ir\\303\\243o me render mais mensalmente?\"\n",
              " }\n",
              " role: \"user\",\n",
              " parts {\n",
              "   text: \"**A\\303\\247\\303\\265es para Renda Passiva com Alto Potencial de Retorno Mensal**\\n\\n* **Dividendos de A\\303\\247\\303\\265es:** Investir em a\\303\\247\\303\\265es de empresas que pagam dividendos regularmente.\\n* **Fundos Imobili\\303\\241rios (FIIs):** Investir em fundos que investem em im\\303\\263veis e distribuem os alugu\\303\\251is recebidos como dividendos.\\n* **T\\303\\255tulos de Renda Fixa:** Investir em t\\303\\255tulos emitidos pelo governo ou empresas que pagam juros regulares.\\n* **Crowdfunding Imobili\\303\\241rio:** Investir em plataformas que permitem financiar projetos imobili\\303\\241rios e receber uma parcela dos lucros.\\n* **Empr\\303\\251stimos Peer-to-Peer (P2P):** Emprestar dinheiro a outras pessoas por meio de plataformas online e receber juros sobre os empr\\303\\251stimos.\\n* **Royalties de Propriedade Intelectual:** Criar e licenciar conte\\303\\272do, como livros, m\\303\\272sicas ou patentes, para receber pagamentos cont\\303\\255nuos.\\n* **An\\303\\272ncios em Im\\303\\263veis:** Alugar espa\\303\\247o em im\\303\\263veis para publicidade e receber uma renda mensal.\\n* **Aluguel de Equipamentos:** Alugar equipamentos, como ferramentas ou m\\303\\241quinas, para uso tempor\\303\\241rio.\\n* **Vendas de Cursos Online:** Criar e vender cursos online que gerem renda passiva cont\\303\\255nua.\\n* **Marketing de Afiliados:** Promover produtos ou servi\\303\\247os de outras empresas e receber uma comiss\\303\\243o sobre as vendas geradas.\\n\\n**Observa\\303\\247\\303\\265es:**\\n\\n* Os retornos mensais podem variar dependendo do investimento espec\\303\\255fico e das condi\\303\\247\\303\\265es de mercado.\\n* \\303\\211 importante diversificar seus investimentos para mitigar riscos.\\n* Consulte um consultor financeiro antes de tomar qualquer decis\\303\\243o de investimento.\"\n",
              " }\n",
              " role: \"model\",\n",
              " parts {\n",
              "   text: \"qual as empresas com os melhores dividendos mensais, na data de hoje?\"\n",
              " }\n",
              " role: \"user\",\n",
              " parts {\n",
              "   text: \"**Empresas com os Melhores Dividendos Mensais na Data de Hoje (24 de Fevereiro de 2023)**\\n\\n| Empresa | S\\303\\255mbolo | Dividendos Mensais | Rendimento de Dividendos |\\n|---|---|---|---|\\n| **Realty Income Corporation** | O | US$ 0,2485 | 4,79% |\\n| **Gladstone Capital Corporation** | GLAD | US$ 0,0633 | 10,82% |\\n| **Main Street Capital Corporation** | MAIN | US$ 0,2275 | 8,41% |\\n| **PennantPark Floating Rate Capital Ltd.** | PFLT | US$ 0,0917 | 9,72% |\\n| **Stellus Capital Investment Corporation** | SCM | US$ 0,1250 | 10,42% |\\n| **Ares Capital Corporation** | ARCC | US$ 0,42 | 8,33% |\\n| **Prospect Capital Corporation** | PSEC | US$ 0,0600 | 10,00% |\\n| **FS KKR Capital Corp.** | FSK | US$ 0,1575 | 10,50% |\\n| **Blackstone Mortgage Trust** | BXMT | US$ 0,23 | 8,62% |\\n| **Ellington Residential Mortgage REIT** | EARN | US$ 0,12 | 10,00% |\\n\\n**Observa\\303\\247\\303\\265es:**\\n\\n* Os dividendos mensais e os rendimentos de dividendos podem variar dependendo das condi\\303\\247\\303\\265es de mercado.\\n* \\303\\211 importante pesquisar e considerar cuidadosamente as empresas antes de investir.\\n* Consulte um consultor financeiro para obter aconselhamento personalizado.\"\n",
              " }\n",
              " role: \"model\",\n",
              " parts {\n",
              "   text: \"Empresas com os Melhores Dividendos Mensais na Data de Hoje, no Brasil (24 de Fevereiro de 2023\"\n",
              " }\n",
              " role: \"user\",\n",
              " parts {\n",
              "   text: \"**Empresas com os Melhores Dividendos Mensais no Brasil na Data de Hoje (24 de Fevereiro de 2023)**\\n\\n| Empresa | S\\303\\255mbolo | Dividendos Mensais | Rendimento de Dividendos |\\n|---|---|---|---|\\n| **BB Seguridade** | BBSE3 | R$ 0,22 | 8,25% |\\n| **Ita\\303\\272 Unibanco** | ITUB4 | R$ 0,23 | 6,75% |\\n| **Bradesco** | BBDC4 | R$ 0,21 | 6,25% |\\n| **Santander Brasil** | SANB11 | R$ 0,19 | 5,75% |\\n| **Vale** | VALE3 | R$ 0,37 | 11,25% |\\n| **Petrobras** | PETR4 | R$ 0,45 | 13,75% |\\n| **Gerdau** | GGBR4 | R$ 0,25 | 7,75% |\\n| **Klabin** | KLBN11 | R$ 0,23 | 7,00% |\\n| **Suzano** | SUZB3 | R$ 0,26 | 7,95% |\\n| **Cosan** | CSAN3 | R$ 0,21 | 6,35% |\\n\\n**Observa\\303\\247\\303\\265es:**\\n\\n* Os dividendos mensais e os rendimentos de dividendos podem variar dependendo das condi\\303\\247\\303\\265es de mercado.\\n* \\303\\211 importante pesquisar e considerar cuidadosamente as empresas antes de investir.\\n* Consulte um consultor financeiro para obter aconselhamento personalizado.\"\n",
              " }\n",
              " role: \"model\"]"
            ]
          },
          "metadata": {},
          "execution_count": 17
        }
      ]
    },
    {
      "cell_type": "code",
      "source": [
        "#Melhorando a visualização\n",
        "#Código disponível em https://ai.google.dev/tutorials/python-quickstart#import_packages\n",
        "\n",
        "import textwrap\n",
        "from IPython.display import display\n",
        "from IPython.display import Markdown\n",
        "\n",
        "def to_markdown(text):\n",
        "  \"\"\"\n",
        "  Converte texto simples para Markdown.\n",
        "  \"\"\"\n",
        "  text = text.replace('`', '\\\\\\`')\n",
        "  return Markdown(textwrap.indent(text, '> ', predicate=lambda _: True))\n",
        "\n",
        "for message in chat.history:\n",
        "    display(to_markdown(f\"**{message.role}:** {message.parts[0].text}\"))\n",
        "    print()"
      ],
      "metadata": {
        "colab": {
          "base_uri": "https://localhost:8080/",
          "height": 1000
        },
        "id": "sLJstv0W8X5H",
        "outputId": "a1c81c1b-e563-4f83-d734-cdcf3a70788a"
      },
      "execution_count": 20,
      "outputs": [
        {
          "output_type": "display_data",
          "data": {
            "text/plain": [
              "<IPython.core.display.Markdown object>"
            ],
            "text/markdown": "> **user:** Hoje, qual é as ações para renda passiva que irão me render mais mensalmente?"
          },
          "metadata": {}
        },
        {
          "output_type": "stream",
          "name": "stdout",
          "text": [
            "\n"
          ]
        },
        {
          "output_type": "display_data",
          "data": {
            "text/plain": [
              "<IPython.core.display.Markdown object>"
            ],
            "text/markdown": "> **model:** **Ações para Renda Passiva com Alto Potencial de Retorno Mensal**\n> \n> * **Dividendos de Ações:** Investir em ações de empresas que pagam dividendos regularmente.\n> * **Fundos Imobiliários (FIIs):** Investir em fundos que investem em imóveis e distribuem os aluguéis recebidos como dividendos.\n> * **Títulos de Renda Fixa:** Investir em títulos emitidos pelo governo ou empresas que pagam juros regulares.\n> * **Crowdfunding Imobiliário:** Investir em plataformas que permitem financiar projetos imobiliários e receber uma parcela dos lucros.\n> * **Empréstimos Peer-to-Peer (P2P):** Emprestar dinheiro a outras pessoas por meio de plataformas online e receber juros sobre os empréstimos.\n> * **Royalties de Propriedade Intelectual:** Criar e licenciar conteúdo, como livros, músicas ou patentes, para receber pagamentos contínuos.\n> * **Anúncios em Imóveis:** Alugar espaço em imóveis para publicidade e receber uma renda mensal.\n> * **Aluguel de Equipamentos:** Alugar equipamentos, como ferramentas ou máquinas, para uso temporário.\n> * **Vendas de Cursos Online:** Criar e vender cursos online que gerem renda passiva contínua.\n> * **Marketing de Afiliados:** Promover produtos ou serviços de outras empresas e receber uma comissão sobre as vendas geradas.\n> \n> **Observações:**\n> \n> * Os retornos mensais podem variar dependendo do investimento específico e das condições de mercado.\n> * É importante diversificar seus investimentos para mitigar riscos.\n> * Consulte um consultor financeiro antes de tomar qualquer decisão de investimento."
          },
          "metadata": {}
        },
        {
          "output_type": "stream",
          "name": "stdout",
          "text": [
            "\n"
          ]
        },
        {
          "output_type": "display_data",
          "data": {
            "text/plain": [
              "<IPython.core.display.Markdown object>"
            ],
            "text/markdown": "> **user:** qual as empresas com os melhores dividendos mensais, na data de hoje?"
          },
          "metadata": {}
        },
        {
          "output_type": "stream",
          "name": "stdout",
          "text": [
            "\n"
          ]
        },
        {
          "output_type": "display_data",
          "data": {
            "text/plain": [
              "<IPython.core.display.Markdown object>"
            ],
            "text/markdown": "> **model:** **Empresas com os Melhores Dividendos Mensais na Data de Hoje (24 de Fevereiro de 2023)**\n> \n> | Empresa | Símbolo | Dividendos Mensais | Rendimento de Dividendos |\n> |---|---|---|---|\n> | **Realty Income Corporation** | O | US$ 0,2485 | 4,79% |\n> | **Gladstone Capital Corporation** | GLAD | US$ 0,0633 | 10,82% |\n> | **Main Street Capital Corporation** | MAIN | US$ 0,2275 | 8,41% |\n> | **PennantPark Floating Rate Capital Ltd.** | PFLT | US$ 0,0917 | 9,72% |\n> | **Stellus Capital Investment Corporation** | SCM | US$ 0,1250 | 10,42% |\n> | **Ares Capital Corporation** | ARCC | US$ 0,42 | 8,33% |\n> | **Prospect Capital Corporation** | PSEC | US$ 0,0600 | 10,00% |\n> | **FS KKR Capital Corp.** | FSK | US$ 0,1575 | 10,50% |\n> | **Blackstone Mortgage Trust** | BXMT | US$ 0,23 | 8,62% |\n> | **Ellington Residential Mortgage REIT** | EARN | US$ 0,12 | 10,00% |\n> \n> **Observações:**\n> \n> * Os dividendos mensais e os rendimentos de dividendos podem variar dependendo das condições de mercado.\n> * É importante pesquisar e considerar cuidadosamente as empresas antes de investir.\n> * Consulte um consultor financeiro para obter aconselhamento personalizado."
          },
          "metadata": {}
        },
        {
          "output_type": "stream",
          "name": "stdout",
          "text": [
            "\n"
          ]
        },
        {
          "output_type": "display_data",
          "data": {
            "text/plain": [
              "<IPython.core.display.Markdown object>"
            ],
            "text/markdown": "> **user:** Empresas com os Melhores Dividendos Mensais na Data de Hoje, no Brasil (24 de Fevereiro de 2023"
          },
          "metadata": {}
        },
        {
          "output_type": "stream",
          "name": "stdout",
          "text": [
            "\n"
          ]
        },
        {
          "output_type": "display_data",
          "data": {
            "text/plain": [
              "<IPython.core.display.Markdown object>"
            ],
            "text/markdown": "> **model:** **Empresas com os Melhores Dividendos Mensais no Brasil na Data de Hoje (24 de Fevereiro de 2023)**\n> \n> | Empresa | Símbolo | Dividendos Mensais | Rendimento de Dividendos |\n> |---|---|---|---|\n> | **BB Seguridade** | BBSE3 | R$ 0,22 | 8,25% |\n> | **Itaú Unibanco** | ITUB4 | R$ 0,23 | 6,75% |\n> | **Bradesco** | BBDC4 | R$ 0,21 | 6,25% |\n> | **Santander Brasil** | SANB11 | R$ 0,19 | 5,75% |\n> | **Vale** | VALE3 | R$ 0,37 | 11,25% |\n> | **Petrobras** | PETR4 | R$ 0,45 | 13,75% |\n> | **Gerdau** | GGBR4 | R$ 0,25 | 7,75% |\n> | **Klabin** | KLBN11 | R$ 0,23 | 7,00% |\n> | **Suzano** | SUZB3 | R$ 0,26 | 7,95% |\n> | **Cosan** | CSAN3 | R$ 0,21 | 6,35% |\n> \n> **Observações:**\n> \n> * Os dividendos mensais e os rendimentos de dividendos podem variar dependendo das condições de mercado.\n> * É importante pesquisar e considerar cuidadosamente as empresas antes de investir.\n> * Consulte um consultor financeiro para obter aconselhamento personalizado."
          },
          "metadata": {}
        },
        {
          "output_type": "stream",
          "name": "stdout",
          "text": [
            "\n"
          ]
        }
      ]
    }
  ]
}